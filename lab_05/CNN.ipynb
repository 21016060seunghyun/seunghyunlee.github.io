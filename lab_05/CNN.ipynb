{
 "cells": [
  {
   "cell_type": "markdown",
   "metadata": {},
   "source": [
    "# Convolutional Layer\n",
    "합성곱 층은 이미지나 시계열 같은 고차원 입력 데이터에서 국소적인 특징(local features) 을 추출하는 데 매우 효과적인 신경망 구조입니다. \n",
    "\n",
    "## Mathematical formulation\n",
    "입력 이미지는 3차원 텐서로 표현됩니다:\n",
    "$$\n",
    "\\mathbf{x} \\in \\mathbb{R}^{C \\times H \\times W}\n",
    "$$\n",
    "- $C$: 입력 채널 수 (예: RGB 이미지의 경우 $C = 3$)\n",
    "- $H, W$: 입력 이미지의 높이(height)와 너비(width)\n",
    "\n",
    "하나의 필터(커널)는 다음과 같은 텐서로 주어집니다:\n",
    "$$\n",
    "\\mathbf{w} \\in \\mathbb{R}^{C \\times K \\times K}\n",
    "$$\n",
    "- $K$: 필터의 크기 (예: $K=3$이면 $3 \\times 3$ 필터)\n",
    "\n",
    "Stride = 1, Padding = 0일 때, Convolution 연산의 출력 텐서 $\\mathbf{y}$는 다음과 같이 주어집니다:\n",
    "\n",
    "$$\n",
    "\\mathbf{y}[h, w] = \\sum_{c=0}^{C-1} \\sum_{i=0}^{K-1} \\sum_{j=0}^{K-1} \\mathbf{x}[c, h + i, w + j] \\cdot \\mathbf{w}[c, i, j] + b\n",
    "$$\n",
    "\n",
    "- $\\mathbf{y} \\in \\mathbb{R}^{(H - K + 1) \\times (W - K + 1)}$ \n",
    "- $b \\in \\mathbb{R}$: bias \n",
    "- 텐서에서 대괄호 $[\\;]$는 특정 위치의 값을 인덱싱하는 것을 의미합니다.\n",
    "\n",
    "\n",
    "<mark>실습</mark> `custom_conv2d`함수를 완성하세요\n",
    "- `for` loop는 <u>최대 2개까지만</u> 사용할 수 있습니다.\n",
    "- [`torch.zeros`](https://pytorch.org/docs/stable/generated/torch.zeros.html)를 이용하여 출력 텐서 `output`을 초기화 하세요"
   ]
  },
  {
   "cell_type": "code",
   "execution_count": 7,
   "metadata": {},
   "outputs": [],
   "source": [
    "import torch\n",
    "import numpy as np\n",
    "from PIL import Image\n",
    "import matplotlib.pyplot as plt\n",
    "\n",
    "def custom_conv2d(input_tensor, filter_weights, filter_bias):\n",
    "    \"\"\"\n",
    "    Performs a 2D convolution (stride=1, padding=0) on a multi-channel input tensor.\n",
    "     \n",
    "    Args:\n",
    "        input_tensor (torch.Tensor): Input image tensor with shape (C, H, W)\n",
    "        filter_weights (torch.Tensor): Convolution filter weights with shape (C, k, k)\n",
    "        filter_bias (torch.Tensor): A scalar bias added after covolution\n",
    "        \n",
    "    Returns:\n",
    "        output (torch.Tensor): Output tensor (feature map)\n",
    "    \"\"\"\n",
    "    \n",
    "    C, H, W = input_tensor.shape\n",
    "    _, k, _ = filter_weights.shape\n",
    "    \n",
    "    ##### YOUR CODE START #####  \n",
    "    stride = 1\n",
    "    \n",
    "    k = filter_weights.shape[2]\n",
    "    out_H = (H - k) // stride + 1\n",
    "    out_W = (W - k) // stride + 1\n",
    "\n",
    "    output = torch.zeros((out_H, out_W))\n",
    "\n",
    "    for i in range(out_H):\n",
    "        for j in range(out_W):\n",
    "            region = input_tensor[:, i*stride:i*stride+k, j*stride:j*stride+k]\n",
    "            output[i, j] = torch.sum(region * filter_weights) + filter_bias\n",
    "    ##### YOUR CODE END #####\n",
    "\n",
    "    return output"
   ]
  },
  {
   "cell_type": "code",
   "execution_count": 8,
   "metadata": {
    "tags": [
     "execute_cell"
    ]
   },
   "outputs": [
    {
     "name": "stdout",
     "output_type": "stream",
     "text": [
      "conv_output shape:  torch.Size([421, 417])\n",
      "\u001b[92mAll tests passed!\n"
     ]
    }
   ],
   "source": [
    "img = Image.open(\"resources/sudoku.jpg\").convert(\"RGB\")\n",
    "img_tensor = torch.from_numpy(np.array(img)).permute(2, 0, 1).float() / 255\n",
    "\n",
    "filter_weights = torch.tensor([\n",
    "    [[ -1.0,  0.0, 1.0],\n",
    "     [ -1.0,  0.0, 1.0],\n",
    "     [ -1.0,  0.0, 1.0]],\n",
    "    \n",
    "    [[ -1.0,  0.0, 1.0],\n",
    "     [ -1.0,  0.0, 1.0],\n",
    "     [ -1.0,  0.0, 1.0]],\n",
    "\n",
    "    [[ -1.0,  0.0, 1.0],\n",
    "     [ -1.0,  0.0, 1.0],\n",
    "     [ -1.0,  0.0, 1.0]],\n",
    "], dtype=torch.float)\n",
    "filter_bias = 0\n",
    "\n",
    "conv_output = custom_conv2d(img_tensor, filter_weights, filter_bias)\n",
    "print(\"conv_output shape: \", conv_output.shape)\n",
    "\n",
    "# Tests\n",
    "assert type(conv_output) == torch.Tensor, \"Output should be torch.Tensor\"\n",
    "assert conv_output.shape == torch.Size([421, 417]), \"Output tensor shape incorrect\"\n",
    "assert torch.allclose(conv_output.sum(), torch.tensor(530022.0) / 255, rtol = 1e-2), \"custom_conv2d output tensor value incorrect\"\n",
    "assert torch.allclose(conv_output.sum(axis = 0)[207:212], torch.tensor([-28707.0, -10893.0, 14067.0, 21816.0, 16683.0]) / 255, rtol = 1e-1), \"custom_conv2d output tensor value incorrect\"\n",
    "print('\\033[92mAll tests passed!')"
   ]
  },
  {
   "cell_type": "markdown",
   "metadata": {},
   "source": [
    "하나의 filter로 convlution연산을 수행했으므로 출력 텐서는 1개의 채널을 가집니다.\n",
    "\n",
    "여기서 예시로 사용한 필터는  다음과 같이 수평 방향의 경계(edge)를 검출하는 역할을 합니다. \n",
    "$$\n",
    "\\begin{bmatrix}\n",
    "-1 & 0 & 1 \\\\\n",
    "-1 & 0 & 1 \\\\\n",
    "-1 & 0 & 1 \\\\\n",
    "\\end{bmatrix}\n",
    "$$"
   ]
  },
  {
   "cell_type": "code",
   "execution_count": null,
   "metadata": {
    "tags": [
     "execute_cell"
    ]
   },
   "outputs": [],
   "source": [
    "original_img_np = img_tensor.permute(1, 2, 0).numpy()\n",
    "fig, axes = plt.subplots(1, 2, figsize=(12, 5))\n",
    "\n",
    "# Display the original multi-channel image\n",
    "axes[0].imshow(original_img_np)\n",
    "axes[0].set_title('Original Image')\n",
    "\n",
    "# Display the convolution output (grayscale)\n",
    "convolved_abs = torch.abs(conv_output)\n",
    "convolved_norm = (convolved_abs - convolved_abs.min()) / (convolved_abs.max() - convolved_abs.min() + 1e-8)\n",
    "im = axes[1].imshow(convolved_norm.numpy(), cmap='gray')\n",
    "axes[1].set_title('Convolved Image')\n",
    "fig.colorbar(im, ax=axes[1])\n",
    "\n",
    "plt.tight_layout()\n",
    "plt.show()"
   ]
  },
  {
   "cell_type": "markdown",
   "metadata": {},
   "source": [
    "# Training a Convolutional Neural Network\n",
    "\n",
    "Convolutional Neural Network(CNN)은 일반적으로 다음과 같은 4가지 주요 레이어로 구성됩니다:\n",
    "\n",
    "- Convolutional layer: 필터를 통해 지역적인 특징(feature)을 추출합니다\n",
    "- Activation: 비선형성을 도입합니다 (예: ReLU).\n",
    "- Pooling layer: 공간 크기를 줄이며 중요한 정보만 추출합니다.\n",
    "- Fully-connected layer: 최종 예측을 위한 분류기 역할을 합니다.\n",
    "\n",
    "### `nn.Conv2d`\n",
    "`nn.Conv2d` ([docs](https://pytorch.org/docs/stable/generated/torch.nn.Conv2d.html))는 4차원 입력 텐서 (batch, channel, height, width)에 대해 합성곱을 수행합니다.\n",
    "\n",
    "- `in_channels` (int) : 입력 채널 수\n",
    "- `out_channels` (int) : 출력 채널 수 = 사용하는 필터 개수\n",
    "- `kernel_size` (int or tuple) : 필터 크기  (예: 3이면 3x3 필터).\n",
    "- `stride` (int or tuple) : Stride (Default = 1)\n",
    "- `padding` (int or tuple) : zero padding (Default = 0)"
   ]
  },
  {
   "cell_type": "code",
   "execution_count": null,
   "metadata": {},
   "outputs": [],
   "source": [
    "import torch\n",
    "from torch import nn"
   ]
  },
  {
   "cell_type": "code",
   "execution_count": null,
   "metadata": {
    "tags": [
     "execute_cell"
    ]
   },
   "outputs": [],
   "source": [
    "input_image = torch.rand(16, 1, 28, 28) # dummy data with batch_size 16\n",
    "conv_layer1 = nn.Conv2d(in_channels = 1, out_channels = 8, kernel_size = 5)\n",
    "conv_output = conv_layer1(input_image)\n",
    "print(\"conv layer output.shape: \", conv_output.shape)"
   ]
  },
  {
   "cell_type": "markdown",
   "metadata": {},
   "source": [
    "필터 수가 8개이므로, 출력 텐서는 (8, 24, 24)의 shape을 가집니다\n",
    "\n",
    "### `nn.MaxPool2d`\n",
    "풀링은 특징 맵의 크기를 줄여 계산량을 줄이고, 위치 변화에 대한 강인함을 향상시킵니다 ([docs](https://pytorch.org/docs/stable/generated/torch.nn.MaxPool2d.html)).\n",
    "- `kernel_size` (int or tuple)\n",
    "- `stride` (int or tuple): Default = `kernel_size`\n",
    "- `padding` (int or tuple): Default = 0"
   ]
  },
  {
   "cell_type": "code",
   "execution_count": null,
   "metadata": {
    "tags": [
     "execute_cell"
    ]
   },
   "outputs": [],
   "source": [
    "pool_layer = nn.MaxPool2d(kernel_size = 2, stride = 2)\n",
    "pool_output = pool_layer(conv_output)\n",
    "print(\"pooling layer output shape: \", pool_output.shape)"
   ]
  },
  {
   "cell_type": "markdown",
   "metadata": {},
   "source": [
    "## CIFAR-10 dataset\n",
    "이번 시간에는 CIFAR-10 dataset을 이용하여 이미지 분류 모델을 학습해보겠습니다.\n",
    "\n",
    "CIFAR-10은 컴퓨터 비전 분야에서 널리 사용되는 벤치마크 이미지 데이터셋으로,\n",
    "- 각 이미지는 32×32 해상도의 3채널(RGB) 컬러 이미지입니다.\n",
    "- 비행기(airplane), 자동차(automobile), 새(bird), 고양이(cat) 등 총 10개의 클래스로 구성되어 있습니다.\n",
    "- 학습 데이터는 50,000개, 테스트 데이터는 10,000개로 구성되어 있습니다."
   ]
  },
  {
   "cell_type": "code",
   "execution_count": 10,
   "metadata": {},
   "outputs": [],
   "source": [
    "import torch\n",
    "from torch import nn\n",
    "from torchvision import datasets, transforms\n",
    "import torch.nn.functional as F\n",
    "\n",
    "from train_utils import train_model, load_and_evaluate_model"
   ]
  },
  {
   "cell_type": "code",
   "execution_count": 11,
   "metadata": {},
   "outputs": [],
   "source": [
    "def load_cifar10_datasets(data_root_dir):\n",
    "    transform = transforms.Compose([\n",
    "        transforms.ToTensor(),\n",
    "        transforms.Normalize(mean = (0.5, 0.5, 0.5), std = (0.5, 0.5, 0.5)) \n",
    "    ])\n",
    "    \n",
    "    train_dataset = datasets.CIFAR10(root=data_root_dir, train=True, download=False, transform=transform)\n",
    "    test_dataset = datasets.CIFAR10(root=data_root_dir, train=False, download=False, transform=transform)\n",
    "\n",
    "    return train_dataset, test_dataset"
   ]
  },
  {
   "cell_type": "code",
   "execution_count": 12,
   "metadata": {
    "tags": [
     "execute_cell"
    ]
   },
   "outputs": [
    {
     "name": "stdout",
     "output_type": "stream",
     "text": [
      "train_dataset size:  50000\n",
      "test_dataset size:  10000\n",
      "train_dataset[0] image shape:  torch.Size([3, 32, 32])\n",
      "train_dataset[0] label:  6\n"
     ]
    }
   ],
   "source": [
    "train_dataset, test_dataset = load_cifar10_datasets(\"/datasets\")\n",
    "print(\"train_dataset size: \", len(train_dataset))\n",
    "print(\"test_dataset size: \", len(test_dataset))\n",
    "print(\"train_dataset[0] image shape: \", train_dataset[0][0].shape)\n",
    "print(\"train_dataset[0] label: \", train_dataset[0][1])"
   ]
  },
  {
   "cell_type": "code",
   "execution_count": 13,
   "metadata": {
    "tags": [
     "execute_cell"
    ]
   },
   "outputs": [
    {
     "data": {
      "image/png": "[encoded data removed]",
      "text/plain": [
       "<Figure size 1000x800 with 20 Axes>"
      ]
     },
     "metadata": {},
     "output_type": "display_data"
    }
   ],
   "source": [
    "import matplotlib.pyplot as plt\n",
    "\n",
    "def visualize_few_samples(dataset, cols=8, rows=5):\n",
    "    class_names = ['airplane', 'automobile', 'bird', 'cat', 'deer',\n",
    "                   'dog', 'frog', 'horse', 'ship', 'truck']  # CIFAR10 class names\n",
    "\n",
    "    figure, axes = plt.subplots(rows, cols, figsize=(cols * 2, rows * 2)) \n",
    "    axes = axes.flatten()\n",
    "\n",
    "    for i in range(cols * rows):\n",
    "        sample_idx = torch.randint(len(dataset), size=(1,)).item()\n",
    "        img, label = dataset[sample_idx]\n",
    "        img = img.permute(1, 2, 0)  # CHW to HWC\n",
    "        img = img.numpy()  # Convert to numpy array\n",
    "        img = (img * 0.5 + 0.5)  # Unnormalize to [0,1] for display\n",
    "        axes[i].imshow(img)\n",
    "        axes[i].set_title(class_names[label])\n",
    "        axes[i].axis('off')\n",
    "    \n",
    "    plt.tight_layout()\n",
    "    plt.show()\n",
    "    \n",
    "visualize_few_samples(train_dataset, cols = 5, rows = 4)"
   ]
  },
  {
   "cell_type": "markdown",
   "metadata": {},
   "source": [
    "## Training a small CNN model\n",
    "\n",
    "<mark>실습</mark> 아래 구조를 가지는 `SimpleCNN`을 완성하세요\n",
    "1. **Conv1**: 7x7 Convolutional layer\n",
    "   - 8 filters, strides of 1, no zero padding, and ReLU activation\n",
    "2. **Pool1**: 2x2 Max pooling layer\n",
    "   - stride of 2\n",
    "3. **Conv2**: 4x4 Convolutional layer\n",
    "   - 16 filters, strides of 1, no zero padding, and ReLU activation\n",
    "4. **Pool2**: 2x2 Max pooling layer\n",
    "   - stride of 2\n",
    "5. **FC1**: Fully connected layer\n",
    "   - 128 output units, ReLU activation\n",
    "6. **FC2**: Fully connected layer\n",
    "   - 64 output units, ReLU activation\n",
    "7. **FC3**: Fully connected layer\n",
    "   - 10 output units (CIFAR-10 클래스 수)\n",
    "\n",
    "힌트\n",
    "- CIFAR-10 데이터셋 입력 이미지 크기는 `(3, 32, 32)` 입니다\n",
    "- [`nn.Conv2d`](https://pytorch.org/docs/stable/generated/torch.nn.Conv2d.html)\n",
    "- [`nn.MaxPool2d`](https://pytorch.org/docs/stable/generated/torch.nn.MaxPool2d.html)\n",
    "- [`nn.Flatten`](https://pytorch.org/docs/stable/generated/torch.nn.Flatten.html) 혹은 [`torch.tensor.view`](https://pytorch.org/docs/stable/generated/torch.Tensor.view.html)를 활용하세요\n",
    "\n"
   ]
  },
  {
   "cell_type": "code",
   "execution_count": 49,
   "metadata": {},
   "outputs": [],
   "source": [
    "class SimpleCNN(nn.Module):\n",
    "    def __init__(self, out_dim):\n",
    "        super().__init__()\n",
    "        ##### YOUR CODE START #####\n",
    "        self.conv1 = nn.Conv2d(3, 8, kernel_size=7, stride=1, padding=0)\n",
    "        self.pool1 = nn.MaxPool2d(kernel_size=2, stride=2)\n",
    "        self.conv2 = nn.Conv2d(8, 16, kernel_size=4, stride=1, padding=0)\n",
    "        self.pool2 = nn.MaxPool2d(kernel_size=2, stride=2)\n",
    "        self.flatten = nn.Flatten()\n",
    "        self.fc1 = nn.Linear(16 * 5 * 5, 128)\n",
    "        self.fc2 = nn.Linear(128, 64)\n",
    "        self.fc3 = nn.Linear(64, out_dim)\n",
    "        ##### YOUR CODE END #####\n",
    "\n",
    "    def forward(self, x):\n",
    "        ##### YOUR CODE START #####\n",
    "        x = F.relu(self.conv1(x))\n",
    "        x = self.pool1(x)\n",
    "        x = F.relu(self.conv2(x))\n",
    "        x = self.pool2(x)\n",
    "        x = self.flatten(x)\n",
    "        x = F.relu(self.fc1(x))\n",
    "        x = F.relu(self.fc2(x))\n",
    "        logits = self.fc3(x)\n",
    "        ##### YOUR CODE END #####\n",
    "        return logits"
   ]
  },
  {
   "cell_type": "code",
   "execution_count": 50,
   "metadata": {
    "tags": [
     "execute_cell"
    ]
   },
   "outputs": [
    {
     "name": "stdout",
     "output_type": "stream",
     "text": [
      "SimpleCNN(\n",
      "  (conv1): Conv2d(3, 8, kernel_size=(7, 7), stride=(1, 1))\n",
      "  (pool1): MaxPool2d(kernel_size=2, stride=2, padding=0, dilation=1, ceil_mode=False)\n",
      "  (conv2): Conv2d(8, 16, kernel_size=(4, 4), stride=(1, 1))\n",
      "  (pool2): MaxPool2d(kernel_size=2, stride=2, padding=0, dilation=1, ceil_mode=False)\n",
      "  (flatten): Flatten(start_dim=1, end_dim=-1)\n",
      "  (fc1): Linear(in_features=400, out_features=128, bias=True)\n",
      "  (fc2): Linear(in_features=128, out_features=64, bias=True)\n",
      "  (fc3): Linear(in_features=64, out_features=10, bias=True)\n",
      ")\n",
      "\n",
      "logits.shape:  torch.Size([16, 10])\n"
     ]
    }
   ],
   "source": [
    "# Test forward pass\n",
    "model = SimpleCNN(out_dim = 10)\n",
    "print(model)\n",
    "\n",
    "X = torch.rand(16, 3, 32, 32) # dummy data for testing with batch_size 16\n",
    "logits = model(X) \n",
    "\n",
    "print(\"\\nlogits.shape: \", logits.shape)"
   ]
  },
  {
   "cell_type": "markdown",
   "metadata": {},
   "source": [
    "<mark>실습</mark> 앞서 정의한 `model = SimpleCNN(out_dim = 10)`의 파라미터 수를 직접 손으로 계산하여 숫자로 기입해보세요 (숫자 계산식으로 입력해도 괜찮으나 파이썬 변수를 사용하지 마세요)\n",
    " - bias를 포함하는것을 잊지 마세요\n"
   ]
  },
  {
   "cell_type": "code",
   "execution_count": 51,
   "metadata": {},
   "outputs": [],
   "source": [
    "num_params_conv1 = 1184  # TODO: number of parameters in Conv1 layer\n",
    "num_params_pool1 = 0 # TODO: number of parameters in Pool1 layer\n",
    "num_params_conv2 = 2064  # TODO: number of parameters in Conv2 layer\n",
    "num_params_pool2 = 0 # TODO: number of parameters in Pool2 layer\n",
    "num_params_fc1 = 51328  # TODO: number of parameters in FC1 layer\n",
    "num_params_fc2 = 8256# TODO: number of parameters in FC2 layer\n",
    "num_params_fc3 = 650 # TODO: number of parameters in FC3 layer"
   ]
  },
  {
   "cell_type": "code",
   "execution_count": 52,
   "metadata": {
    "tags": [
     "execute_cell"
    ]
   },
   "outputs": [
    {
     "name": "stdout",
     "output_type": "stream",
     "text": [
      "Total number of params : 63482\n",
      "\u001b[92mAll tests passed!\n"
     ]
    }
   ],
   "source": [
    "total_params = (num_params_conv1  + num_params_pool1 + num_params_conv2 + num_params_pool2 + num_params_fc1 + num_params_fc2 + num_params_fc3)\n",
    "\n",
    "print(f\"Total number of params : {total_params}\")\n",
    "\n",
    "assert sum(p.numel() for p in model.parameters() if p.requires_grad) == total_params, \"❌ 계산한 파라미터 수가 실제 모델과 일치하지 않습니다.\"\n",
    "print('\\033[92mAll tests passed!')"
   ]
  },
  {
   "cell_type": "markdown",
   "metadata": {},
   "source": [
    "<mark>실습</mark> 아래 코드를 이용하여 `SimpleCNN`모델을 학습해보고 WandB에서 결과를 살펴보세요"
   ]
  },
  {
   "cell_type": "code",
   "execution_count": 53,
   "metadata": {},
   "outputs": [],
   "source": [
    "def main_SimpleCNN(config):\n",
    "    train_dataset, test_dataset = load_cifar10_datasets(config[\"data_root_dir\"])\n",
    "    num_classes = len(train_dataset.classes)\n",
    "\n",
    "    model = SimpleCNN(out_dim=num_classes)\n",
    "\n",
    "    print(f\"Using {config['device']} device\")\n",
    "    print(\"Number of trainable model parameters: \", sum(p.numel() for p in model.parameters() if p.requires_grad))\n",
    "\n",
    "    if config[\"mode\"] == \"train\":\n",
    "        test_accuracy = train_model(model, train_dataset, test_dataset, config)\n",
    "    elif config[\"mode\"] == \"eval\":\n",
    "        test_accuracy = load_and_evaluate_model(model, test_dataset, config)\n",
    "    else:\n",
    "        raise ValueError(f\"Unknown mode: {config['mode']}\")\n",
    "    \n",
    "    return test_accuracy"
   ]
  },
  {
   "cell_type": "code",
   "execution_count": 55,
   "metadata": {
    "tags": [
     "execute_cell"
    ]
   },
   "outputs": [
    {
     "name": "stdout",
     "output_type": "stream",
     "text": [
      "Using cuda device\n",
      "Number of trainable model parameters:  63482\n"
     ]
    },
    {
     "data": {
      "text/html": [
       "wandb version 0.19.11 is available!  To upgrade, please run:\n",
       " $ pip install wandb --upgrade"
      ],
      "text/plain": [
       "<IPython.core.display.HTML object>"
      ]
     },
     "metadata": {},
     "output_type": "display_data"
    },
    {
     "data": {
      "text/html": [
       "Tracking run with wandb version 0.17.7"
      ],
      "text/plain": [
       "<IPython.core.display.HTML object>"
      ]
     },
     "metadata": {},
     "output_type": "display_data"
    },
    {
     "data": {
      "text/html": [
       "Run data is saved locally in <code>/home/jovyan/deep_learning_lab_Whatever_you_want/lab_05/wandb/run-20250522_121754-7c7xjhhg</code>"
      ],
      "text/plain": [
       "<IPython.core.display.HTML object>"
      ]
     },
     "metadata": {},
     "output_type": "display_data"
    },
    {
     "data": {
      "text/html": [
       "Syncing run <strong><a href='https://wandb.ai/junior7ee-university-of-suwon/CIFAR10-experiments/runs/7c7xjhhg' target=\"_blank\">SimpleCNN</a></strong> to <a href='https://wandb.ai/junior7ee-university-of-suwon/CIFAR10-experiments' target=\"_blank\">Weights & Biases</a> (<a href='https://wandb.me/run' target=\"_blank\">docs</a>)<br/>"
      ],
      "text/plain": [
       "<IPython.core.display.HTML object>"
      ]
     },
     "metadata": {},
     "output_type": "display_data"
    },
    {
     "data": {
      "text/html": [
       " View project at <a href='https://wandb.ai/junior7ee-university-of-suwon/CIFAR10-experiments' target=\"_blank\">https://wandb.ai/junior7ee-university-of-suwon/CIFAR10-experiments</a>"
      ],
      "text/plain": [
       "<IPython.core.display.HTML object>"
      ]
     },
     "metadata": {},
     "output_type": "display_data"
    },
    {
     "data": {
      "text/html": [
       " View run at <a href='https://wandb.ai/junior7ee-university-of-suwon/CIFAR10-experiments/runs/7c7xjhhg' target=\"_blank\">https://wandb.ai/junior7ee-university-of-suwon/CIFAR10-experiments/runs/7c7xjhhg</a>"
      ],
      "text/plain": [
       "<IPython.core.display.HTML object>"
      ]
     },
     "metadata": {},
     "output_type": "display_data"
    },
    {
     "name": "stderr",
     "output_type": "stream",
     "text": [
      "Training Epoch 1: 100%|██████████| 391/391 [00:01<00:00, 363.55it/s, avg_metrics=Loss: 2.3045e+00 (n=50000), Accuracy:  10.00 (n=50000), Data_Time:  0.001 (n=391), Batch_Time:  0.002 (n=391)]\n",
      "Validation/Test: 100%|██████████| 79/79 [00:00<00:00, 381.50it/s, avg_metrics=Loss: 2.3028e+00 (n=10000), Accuracy:  10.00 (n=10000)]\n",
      "Training Epoch 2: 100%|██████████| 391/391 [00:01<00:00, 344.07it/s, avg_metrics=Loss: 2.3015e+00 (n=50000), Accuracy:  10.00 (n=50000), Data_Time:  0.001 (n=391), Batch_Time:  0.002 (n=391)]\n",
      "Validation/Test: 100%|██████████| 79/79 [00:00<00:00, 350.32it/s, avg_metrics=Loss: 2.2996e+00 (n=10000), Accuracy:  10.15 (n=10000)]\n",
      "Training Epoch 3: 100%|██████████| 391/391 [00:01<00:00, 359.94it/s, avg_metrics=Loss: 2.2965e+00 (n=50000), Accuracy:  13.59 (n=50000), Data_Time:  0.001 (n=391), Batch_Time:  0.002 (n=391)]\n",
      "Validation/Test: 100%|██████████| 79/79 [00:00<00:00, 332.37it/s, avg_metrics=Loss: 2.2910e+00 (n=10000), Accuracy:  18.07 (n=10000)]\n",
      "Training Epoch 4: 100%|██████████| 391/391 [00:01<00:00, 340.69it/s, avg_metrics=Loss: 2.2728e+00 (n=50000), Accuracy:  19.56 (n=50000), Data_Time:  0.001 (n=391), Batch_Time:  0.003 (n=391)]\n",
      "Validation/Test: 100%|██████████| 79/79 [00:00<00:00, 379.29it/s, avg_metrics=Loss: 2.2269e+00 (n=10000), Accuracy:  21.89 (n=10000)]\n",
      "Training Epoch 5: 100%|██████████| 391/391 [00:01<00:00, 340.41it/s, avg_metrics=Loss: 2.1160e+00 (n=50000), Accuracy:  22.67 (n=50000), Data_Time:  0.001 (n=391), Batch_Time:  0.002 (n=391)]\n",
      "Validation/Test: 100%|██████████| 79/79 [00:00<00:00, 360.09it/s, avg_metrics=Loss: 2.0200e+00 (n=10000), Accuracy:  26.41 (n=10000)]\n",
      "Training Epoch 6: 100%|██████████| 391/391 [00:01<00:00, 359.41it/s, avg_metrics=Loss: 1.9528e+00 (n=50000), Accuracy:  28.78 (n=50000), Data_Time:  0.001 (n=391), Batch_Time:  0.002 (n=391)]\n",
      "Validation/Test: 100%|██████████| 79/79 [00:00<00:00, 386.05it/s, avg_metrics=Loss: 1.8694e+00 (n=10000), Accuracy:  32.46 (n=10000)]\n",
      "Training Epoch 7: 100%|██████████| 391/391 [00:01<00:00, 359.90it/s, avg_metrics=Loss: 1.8203e+00 (n=50000), Accuracy:  33.69 (n=50000), Data_Time:  0.001 (n=391), Batch_Time:  0.002 (n=391)]\n",
      "Validation/Test: 100%|██████████| 79/79 [00:00<00:00, 348.81it/s, avg_metrics=Loss: 1.7664e+00 (n=10000), Accuracy:  36.06 (n=10000)]\n",
      "Training Epoch 8: 100%|██████████| 391/391 [00:01<00:00, 339.34it/s, avg_metrics=Loss: 1.7274e+00 (n=50000), Accuracy:  37.38 (n=50000), Data_Time:  0.001 (n=391), Batch_Time:  0.002 (n=391)]\n",
      "Validation/Test: 100%|██████████| 79/79 [00:00<00:00, 382.60it/s, avg_metrics=Loss: 1.6890e+00 (n=10000), Accuracy:  38.37 (n=10000)]\n",
      "Training Epoch 9: 100%|██████████| 391/391 [00:01<00:00, 365.61it/s, avg_metrics=Loss: 1.6619e+00 (n=50000), Accuracy:  39.48 (n=50000), Data_Time:  0.001 (n=391), Batch_Time:  0.002 (n=391)]\n",
      "Validation/Test: 100%|██████████| 79/79 [00:00<00:00, 296.90it/s, avg_metrics=Loss: 1.6432e+00 (n=10000), Accuracy:  40.65 (n=10000)]\n",
      "Training Epoch 10: 100%|██████████| 391/391 [00:01<00:00, 354.66it/s, avg_metrics=Loss: 1.6119e+00 (n=50000), Accuracy:  41.30 (n=50000), Data_Time:  0.001 (n=391), Batch_Time:  0.002 (n=391)]\n",
      "Validation/Test: 100%|██████████| 79/79 [00:00<00:00, 369.36it/s, avg_metrics=Loss: 1.5990e+00 (n=10000), Accuracy:  42.03 (n=10000)]\n",
      "Training Epoch 11: 100%|██████████| 391/391 [00:01<00:00, 358.09it/s, avg_metrics=Loss: 1.5742e+00 (n=50000), Accuracy:  42.55 (n=50000), Data_Time:  0.001 (n=391), Batch_Time:  0.002 (n=391)]\n",
      "Validation/Test: 100%|██████████| 79/79 [00:00<00:00, 361.89it/s, avg_metrics=Loss: 1.5476e+00 (n=10000), Accuracy:  43.99 (n=10000)]\n",
      "Training Epoch 12: 100%|██████████| 391/391 [00:01<00:00, 335.73it/s, avg_metrics=Loss: 1.5426e+00 (n=50000), Accuracy:  43.97 (n=50000), Data_Time:  0.001 (n=391), Batch_Time:  0.002 (n=391)]\n",
      "Validation/Test: 100%|██████████| 79/79 [00:00<00:00, 335.18it/s, avg_metrics=Loss: 1.5615e+00 (n=10000), Accuracy:  43.61 (n=10000)]\n",
      "Training Epoch 13: 100%|██████████| 391/391 [00:01<00:00, 342.97it/s, avg_metrics=Loss: 1.5122e+00 (n=50000), Accuracy:  45.04 (n=50000), Data_Time:  0.001 (n=391), Batch_Time:  0.002 (n=391)]\n",
      "Validation/Test: 100%|██████████| 79/79 [00:00<00:00, 385.49it/s, avg_metrics=Loss: 1.5004e+00 (n=10000), Accuracy:  45.84 (n=10000)]\n",
      "Training Epoch 14: 100%|██████████| 391/391 [00:01<00:00, 356.31it/s, avg_metrics=Loss: 1.4820e+00 (n=50000), Accuracy:  46.33 (n=50000), Data_Time:  0.001 (n=391), Batch_Time:  0.002 (n=391)]\n",
      "Validation/Test: 100%|██████████| 79/79 [00:00<00:00, 367.47it/s, avg_metrics=Loss: 1.4782e+00 (n=10000), Accuracy:  46.62 (n=10000)]\n",
      "Training Epoch 15: 100%|██████████| 391/391 [00:01<00:00, 368.46it/s, avg_metrics=Loss: 1.4542e+00 (n=50000), Accuracy:  47.47 (n=50000), Data_Time:  0.001 (n=391), Batch_Time:  0.002 (n=391)]\n",
      "Validation/Test: 100%|██████████| 79/79 [00:00<00:00, 327.77it/s, avg_metrics=Loss: 1.4832e+00 (n=10000), Accuracy:  44.89 (n=10000)]\n",
      "Training Epoch 16: 100%|██████████| 391/391 [00:01<00:00, 343.86it/s, avg_metrics=Loss: 1.4240e+00 (n=50000), Accuracy:  48.38 (n=50000), Data_Time:  0.001 (n=391), Batch_Time:  0.002 (n=391)]\n",
      "Validation/Test: 100%|██████████| 79/79 [00:00<00:00, 356.61it/s, avg_metrics=Loss: 1.4188e+00 (n=10000), Accuracy:  48.32 (n=10000)]\n",
      "Training Epoch 17: 100%|██████████| 391/391 [00:00<00:00, 398.35it/s, avg_metrics=Loss: 1.4019e+00 (n=50000), Accuracy:  49.46 (n=50000), Data_Time:  0.001 (n=391), Batch_Time:  0.002 (n=391)]\n",
      "Validation/Test: 100%|██████████| 79/79 [00:00<00:00, 301.53it/s, avg_metrics=Loss: 1.4032e+00 (n=10000), Accuracy:  49.37 (n=10000)]\n",
      "Training Epoch 18: 100%|██████████| 391/391 [00:01<00:00, 350.90it/s, avg_metrics=Loss: 1.3743e+00 (n=50000), Accuracy:  50.52 (n=50000), Data_Time:  0.001 (n=391), Batch_Time:  0.002 (n=391)]\n",
      "Validation/Test: 100%|██████████| 79/79 [00:00<00:00, 381.56it/s, avg_metrics=Loss: 1.3767e+00 (n=10000), Accuracy:  49.94 (n=10000)]\n",
      "Training Epoch 19: 100%|██████████| 391/391 [00:01<00:00, 368.15it/s, avg_metrics=Loss: 1.3527e+00 (n=50000), Accuracy:  51.38 (n=50000), Data_Time:  0.001 (n=391), Batch_Time:  0.002 (n=391)]\n",
      "Validation/Test: 100%|██████████| 79/79 [00:00<00:00, 352.82it/s, avg_metrics=Loss: 1.3577e+00 (n=10000), Accuracy:  50.83 (n=10000)]\n",
      "Training Epoch 20: 100%|██████████| 391/391 [00:01<00:00, 361.91it/s, avg_metrics=Loss: 1.3302e+00 (n=50000), Accuracy:  52.23 (n=50000), Data_Time:  0.001 (n=391), Batch_Time:  0.002 (n=391)]\n",
      "Validation/Test: 100%|██████████| 79/79 [00:00<00:00, 367.19it/s, avg_metrics=Loss: 1.3874e+00 (n=10000), Accuracy:  50.15 (n=10000)]\n",
      "Training Epoch 21: 100%|██████████| 391/391 [00:01<00:00, 363.03it/s, avg_metrics=Loss: 1.3125e+00 (n=50000), Accuracy:  52.79 (n=50000), Data_Time:  0.001 (n=391), Batch_Time:  0.002 (n=391)]\n",
      "Validation/Test: 100%|██████████| 79/79 [00:00<00:00, 364.92it/s, avg_metrics=Loss: 1.3048e+00 (n=10000), Accuracy:  52.69 (n=10000)]\n",
      "Training Epoch 22: 100%|██████████| 391/391 [00:01<00:00, 360.61it/s, avg_metrics=Loss: 1.2939e+00 (n=50000), Accuracy:  53.58 (n=50000), Data_Time:  0.001 (n=391), Batch_Time:  0.002 (n=391)]\n",
      "Validation/Test: 100%|██████████| 79/79 [00:00<00:00, 309.46it/s, avg_metrics=Loss: 1.3292e+00 (n=10000), Accuracy:  52.64 (n=10000)]\n",
      "Training Epoch 23: 100%|██████████| 391/391 [00:01<00:00, 351.27it/s, avg_metrics=Loss: 1.2741e+00 (n=50000), Accuracy:  54.40 (n=50000), Data_Time:  0.001 (n=391), Batch_Time:  0.002 (n=391)]\n",
      "Validation/Test: 100%|██████████| 79/79 [00:00<00:00, 374.51it/s, avg_metrics=Loss: 1.3551e+00 (n=10000), Accuracy:  51.20 (n=10000)]\n",
      "Training Epoch 24: 100%|██████████| 391/391 [00:01<00:00, 364.67it/s, avg_metrics=Loss: 1.2571e+00 (n=50000), Accuracy:  55.15 (n=50000), Data_Time:  0.001 (n=391), Batch_Time:  0.002 (n=391)]\n",
      "Validation/Test: 100%|██████████| 79/79 [00:00<00:00, 353.91it/s, avg_metrics=Loss: 1.2999e+00 (n=10000), Accuracy:  53.05 (n=10000)]\n",
      "Training Epoch 25: 100%|██████████| 391/391 [00:01<00:00, 339.85it/s, avg_metrics=Loss: 1.2429e+00 (n=50000), Accuracy:  55.68 (n=50000), Data_Time:  0.001 (n=391), Batch_Time:  0.002 (n=391)]\n",
      "Validation/Test: 100%|██████████| 79/79 [00:00<00:00, 369.68it/s, avg_metrics=Loss: 1.3229e+00 (n=10000), Accuracy:  52.86 (n=10000)]\n",
      "Training Epoch 26: 100%|██████████| 391/391 [00:01<00:00, 386.40it/s, avg_metrics=Loss: 1.2256e+00 (n=50000), Accuracy:  56.42 (n=50000), Data_Time:  0.001 (n=391), Batch_Time:  0.002 (n=391)]\n",
      "Validation/Test: 100%|██████████| 79/79 [00:00<00:00, 324.05it/s, avg_metrics=Loss: 1.2597e+00 (n=10000), Accuracy:  55.12 (n=10000)]\n",
      "Training Epoch 27: 100%|██████████| 391/391 [00:01<00:00, 334.02it/s, avg_metrics=Loss: 1.2088e+00 (n=50000), Accuracy:  57.06 (n=50000), Data_Time:  0.001 (n=391), Batch_Time:  0.002 (n=391)]\n",
      "Validation/Test: 100%|██████████| 79/79 [00:00<00:00, 376.42it/s, avg_metrics=Loss: 1.2164e+00 (n=10000), Accuracy:  56.59 (n=10000)]\n",
      "Training Epoch 28: 100%|██████████| 391/391 [00:01<00:00, 359.45it/s, avg_metrics=Loss: 1.1931e+00 (n=50000), Accuracy:  57.45 (n=50000), Data_Time:  0.001 (n=391), Batch_Time:  0.002 (n=391)]\n",
      "Validation/Test: 100%|██████████| 79/79 [00:00<00:00, 302.77it/s, avg_metrics=Loss: 1.2297e+00 (n=10000), Accuracy:  55.62 (n=10000)]\n",
      "Training Epoch 29: 100%|██████████| 391/391 [00:01<00:00, 326.45it/s, avg_metrics=Loss: 1.1775e+00 (n=50000), Accuracy:  58.14 (n=50000), Data_Time:  0.001 (n=391), Batch_Time:  0.002 (n=391)]\n",
      "Validation/Test: 100%|██████████| 79/79 [00:00<00:00, 370.59it/s, avg_metrics=Loss: 1.2101e+00 (n=10000), Accuracy:  56.92 (n=10000)]\n",
      "Training Epoch 30: 100%|██████████| 391/391 [00:01<00:00, 351.76it/s, avg_metrics=Loss: 1.1616e+00 (n=50000), Accuracy:  58.72 (n=50000), Data_Time:  0.001 (n=391), Batch_Time:  0.002 (n=391)]\n",
      "Validation/Test: 100%|██████████| 79/79 [00:00<00:00, 367.60it/s, avg_metrics=Loss: 1.2017e+00 (n=10000), Accuracy:  56.98 (n=10000)]\n",
      "Training Epoch 31: 100%|██████████| 391/391 [00:01<00:00, 347.60it/s, avg_metrics=Loss: 1.1505e+00 (n=50000), Accuracy:  59.16 (n=50000), Data_Time:  0.001 (n=391), Batch_Time:  0.002 (n=391)]\n",
      "Validation/Test: 100%|██████████| 79/79 [00:00<00:00, 373.44it/s, avg_metrics=Loss: 1.2309e+00 (n=10000), Accuracy:  56.69 (n=10000)]\n",
      "Training Epoch 32: 100%|██████████| 391/391 [00:01<00:00, 355.69it/s, avg_metrics=Loss: 1.1365e+00 (n=50000), Accuracy:  59.94 (n=50000), Data_Time:  0.001 (n=391), Batch_Time:  0.002 (n=391)]\n",
      "Validation/Test: 100%|██████████| 79/79 [00:00<00:00, 374.08it/s, avg_metrics=Loss: 1.2163e+00 (n=10000), Accuracy:  56.85 (n=10000)]\n",
      "Training Epoch 33: 100%|██████████| 391/391 [00:01<00:00, 339.68it/s, avg_metrics=Loss: 1.1247e+00 (n=50000), Accuracy:  60.29 (n=50000), Data_Time:  0.001 (n=391), Batch_Time:  0.002 (n=391)]\n",
      "Validation/Test: 100%|██████████| 79/79 [00:00<00:00, 365.76it/s, avg_metrics=Loss: 1.1777e+00 (n=10000), Accuracy:  58.19 (n=10000)]\n",
      "Training Epoch 34: 100%|██████████| 391/391 [00:01<00:00, 361.95it/s, avg_metrics=Loss: 1.1113e+00 (n=50000), Accuracy:  60.63 (n=50000), Data_Time:  0.001 (n=391), Batch_Time:  0.002 (n=391)]\n",
      "Validation/Test: 100%|██████████| 79/79 [00:00<00:00, 376.01it/s, avg_metrics=Loss: 1.1436e+00 (n=10000), Accuracy:  59.31 (n=10000)]\n",
      "Training Epoch 35: 100%|██████████| 391/391 [00:01<00:00, 336.67it/s, avg_metrics=Loss: 1.0987e+00 (n=50000), Accuracy:  61.29 (n=50000), Data_Time:  0.001 (n=391), Batch_Time:  0.002 (n=391)]\n",
      "Validation/Test: 100%|██████████| 79/79 [00:00<00:00, 351.06it/s, avg_metrics=Loss: 1.1643e+00 (n=10000), Accuracy:  59.04 (n=10000)]\n",
      "Training Epoch 36: 100%|██████████| 391/391 [00:01<00:00, 360.78it/s, avg_metrics=Loss: 1.0894e+00 (n=50000), Accuracy:  61.53 (n=50000), Data_Time:  0.001 (n=391), Batch_Time:  0.002 (n=391)]\n",
      "Validation/Test: 100%|██████████| 79/79 [00:00<00:00, 393.09it/s, avg_metrics=Loss: 1.1690e+00 (n=10000), Accuracy:  58.93 (n=10000)]\n",
      "Training Epoch 37: 100%|██████████| 391/391 [00:01<00:00, 344.85it/s, avg_metrics=Loss: 1.0723e+00 (n=50000), Accuracy:  62.24 (n=50000), Data_Time:  0.001 (n=391), Batch_Time:  0.002 (n=391)]\n",
      "Validation/Test: 100%|██████████| 79/79 [00:00<00:00, 395.78it/s, avg_metrics=Loss: 1.1442e+00 (n=10000), Accuracy:  59.79 (n=10000)]\n",
      "Training Epoch 38: 100%|██████████| 391/391 [00:01<00:00, 355.38it/s, avg_metrics=Loss: 1.0641e+00 (n=50000), Accuracy:  62.50 (n=50000), Data_Time:  0.001 (n=391), Batch_Time:  0.002 (n=391)]\n",
      "Validation/Test: 100%|██████████| 79/79 [00:00<00:00, 374.91it/s, avg_metrics=Loss: 1.1264e+00 (n=10000), Accuracy:  60.93 (n=10000)]\n",
      "Training Epoch 39: 100%|██████████| 391/391 [00:01<00:00, 354.34it/s, avg_metrics=Loss: 1.0528e+00 (n=50000), Accuracy:  62.88 (n=50000), Data_Time:  0.001 (n=391), Batch_Time:  0.002 (n=391)]\n",
      "Validation/Test: 100%|██████████| 79/79 [00:00<00:00, 374.85it/s, avg_metrics=Loss: 1.1064e+00 (n=10000), Accuracy:  61.26 (n=10000)]\n",
      "Training Epoch 40: 100%|██████████| 391/391 [00:01<00:00, 360.05it/s, avg_metrics=Loss: 1.0404e+00 (n=50000), Accuracy:  63.33 (n=50000), Data_Time:  0.001 (n=391), Batch_Time:  0.002 (n=391)]\n",
      "Validation/Test: 100%|██████████| 79/79 [00:00<00:00, 360.52it/s, avg_metrics=Loss: 1.1154e+00 (n=10000), Accuracy:  60.40 (n=10000)]\n",
      "Training Epoch 41: 100%|██████████| 391/391 [00:01<00:00, 331.91it/s, avg_metrics=Loss: 1.0308e+00 (n=50000), Accuracy:  63.69 (n=50000), Data_Time:  0.001 (n=391), Batch_Time:  0.002 (n=391)]\n",
      "Validation/Test: 100%|██████████| 79/79 [00:00<00:00, 377.20it/s, avg_metrics=Loss: 1.1472e+00 (n=10000), Accuracy:  60.15 (n=10000)]\n",
      "Training Epoch 42: 100%|██████████| 391/391 [00:01<00:00, 362.17it/s, avg_metrics=Loss: 1.0187e+00 (n=50000), Accuracy:  64.35 (n=50000), Data_Time:  0.001 (n=391), Batch_Time:  0.002 (n=391)]\n",
      "Validation/Test: 100%|██████████| 79/79 [00:00<00:00, 373.96it/s, avg_metrics=Loss: 1.1250e+00 (n=10000), Accuracy:  61.10 (n=10000)]\n",
      "Training Epoch 43: 100%|██████████| 391/391 [00:01<00:00, 363.02it/s, avg_metrics=Loss: 1.0095e+00 (n=50000), Accuracy:  64.46 (n=50000), Data_Time:  0.001 (n=391), Batch_Time:  0.002 (n=391)]\n",
      "Validation/Test: 100%|██████████| 79/79 [00:00<00:00, 270.52it/s, avg_metrics=Loss: 1.1108e+00 (n=10000), Accuracy:  61.42 (n=10000)]\n",
      "Training Epoch 44: 100%|██████████| 391/391 [00:01<00:00, 356.67it/s, avg_metrics=Loss: 1.0007e+00 (n=50000), Accuracy:  64.70 (n=50000), Data_Time:  0.001 (n=391), Batch_Time:  0.002 (n=391)]\n",
      "Validation/Test: 100%|██████████| 79/79 [00:00<00:00, 378.20it/s, avg_metrics=Loss: 1.1082e+00 (n=10000), Accuracy:  61.59 (n=10000)]\n",
      "Training Epoch 45: 100%|██████████| 391/391 [00:01<00:00, 355.16it/s, avg_metrics=Loss: 9.8966e-01 (n=50000), Accuracy:  65.18 (n=50000), Data_Time:  0.001 (n=391), Batch_Time:  0.002 (n=391)]\n",
      "Validation/Test: 100%|██████████| 79/79 [00:00<00:00, 358.71it/s, avg_metrics=Loss: 1.1207e+00 (n=10000), Accuracy:  60.65 (n=10000)]\n",
      "Training Epoch 46: 100%|██████████| 391/391 [00:01<00:00, 334.00it/s, avg_metrics=Loss: 9.8047e-01 (n=50000), Accuracy:  65.66 (n=50000), Data_Time:  0.001 (n=391), Batch_Time:  0.002 (n=391)]\n",
      "Validation/Test: 100%|██████████| 79/79 [00:00<00:00, 385.85it/s, avg_metrics=Loss: 1.0757e+00 (n=10000), Accuracy:  62.42 (n=10000)]\n",
      "Training Epoch 47: 100%|██████████| 391/391 [00:01<00:00, 331.16it/s, avg_metrics=Loss: 9.7122e-01 (n=50000), Accuracy:  65.89 (n=50000), Data_Time:  0.001 (n=391), Batch_Time:  0.002 (n=391)]\n",
      "Validation/Test: 100%|██████████| 79/79 [00:00<00:00, 397.36it/s, avg_metrics=Loss: 1.1382e+00 (n=10000), Accuracy:  60.00 (n=10000)]\n",
      "Training Epoch 48: 100%|██████████| 391/391 [00:01<00:00, 364.83it/s, avg_metrics=Loss: 9.6283e-01 (n=50000), Accuracy:  66.37 (n=50000), Data_Time:  0.001 (n=391), Batch_Time:  0.002 (n=391)]\n",
      "Validation/Test: 100%|██████████| 79/79 [00:00<00:00, 325.31it/s, avg_metrics=Loss: 1.0922e+00 (n=10000), Accuracy:  61.62 (n=10000)]\n",
      "Training Epoch 49: 100%|██████████| 391/391 [00:01<00:00, 341.06it/s, avg_metrics=Loss: 9.5121e-01 (n=50000), Accuracy:  66.48 (n=50000), Data_Time:  0.001 (n=391), Batch_Time:  0.002 (n=391)]\n",
      "Validation/Test: 100%|██████████| 79/79 [00:00<00:00, 380.68it/s, avg_metrics=Loss: 1.0733e+00 (n=10000), Accuracy:  62.75 (n=10000)]\n",
      "Training Epoch 50: 100%|██████████| 391/391 [00:01<00:00, 344.42it/s, avg_metrics=Loss: 9.4313e-01 (n=50000), Accuracy:  67.12 (n=50000), Data_Time:  0.001 (n=391), Batch_Time:  0.002 (n=391)]\n",
      "Validation/Test: 100%|██████████| 79/79 [00:00<00:00, 360.16it/s, avg_metrics=Loss: 1.0715e+00 (n=10000), Accuracy:  62.67 (n=10000)]\n"
     ]
    },
    {
     "data": {
      "application/vnd.jupyter.widget-view+json": {
       "model_id": "",
       "version_major": 2,
       "version_minor": 0
      },
      "text/plain": [
       "VBox(children=(Label(value='0.004 MB of 0.042 MB uploaded\\r'), FloatProgress(value=0.1060432773685896, max=1.0…"
      ]
     },
     "metadata": {},
     "output_type": "display_data"
    },
    {
     "data": {
      "text/html": [
       "<style>\n",
       "    table.wandb td:nth-child(1) { padding: 0 10px; text-align: left ; width: auto;} td:nth-child(2) {text-align: left ; width: 100%}\n",
       "    .wandb-row { display: flex; flex-direction: row; flex-wrap: wrap; justify-content: flex-start; width: 100% }\n",
       "    .wandb-col { display: flex; flex-direction: column; flex-basis: 100%; flex: 1; padding: 10px; }\n",
       "    </style>\n",
       "<div class=\"wandb-row\"><div class=\"wandb-col\"><h3>Run history:</h3><br/><table class=\"wandb\"><tr><td>Test Accuracy</td><td>▁▁▂▃▄▄▅▅▆▅▆▆▆▆▆▆▇▇▆▇▇▇▇▇▇▇▇█████████████</td></tr><tr><td>Test Loss</td><td>████▆▅▅▄▄▄▃▃▃▃▃▃▂▂▃▂▂▂▂▂▂▂▂▁▂▁▁▁▁▁▁▁▁▁▁▁</td></tr><tr><td>Train Accuracy</td><td>▁▁▁▂▃▄▄▅▅▅▅▅▆▆▆▆▆▆▆▇▇▇▇▇▇▇▇▇▇▇▇▇████████</td></tr><tr><td>Train Loss</td><td>████▆▆▅▅▄▄▄▄▃▃▃▃▃▃▃▃▂▂▂▂▂▂▂▂▂▂▂▂▁▁▁▁▁▁▁▁</td></tr><tr><td>epoch</td><td>▁▁▁▁▂▂▂▂▂▃▃▃▃▃▃▄▄▄▄▄▅▅▅▅▅▅▆▆▆▆▆▇▇▇▇▇▇███</td></tr></table><br/></div><div class=\"wandb-col\"><h3>Run summary:</h3><br/><table class=\"wandb\"><tr><td>Test Accuracy</td><td>62.67</td></tr><tr><td>Test Loss</td><td>1.0715</td></tr><tr><td>Train Accuracy</td><td>67.12</td></tr><tr><td>Train Loss</td><td>0.94313</td></tr><tr><td>epoch</td><td>49</td></tr></table><br/></div></div>"
      ],
      "text/plain": [
       "<IPython.core.display.HTML object>"
      ]
     },
     "metadata": {},
     "output_type": "display_data"
    },
    {
     "data": {
      "text/html": [
       " View run <strong style=\"color:#cdcd00\">SimpleCNN</strong> at: <a href='https://wandb.ai/junior7ee-university-of-suwon/CIFAR10-experiments/runs/7c7xjhhg' target=\"_blank\">https://wandb.ai/junior7ee-university-of-suwon/CIFAR10-experiments/runs/7c7xjhhg</a><br/> View project at: <a href='https://wandb.ai/junior7ee-university-of-suwon/CIFAR10-experiments' target=\"_blank\">https://wandb.ai/junior7ee-university-of-suwon/CIFAR10-experiments</a><br/>Synced 6 W&B file(s), 0 media file(s), 0 artifact file(s) and 0 other file(s)"
      ],
      "text/plain": [
       "<IPython.core.display.HTML object>"
      ]
     },
     "metadata": {},
     "output_type": "display_data"
    },
    {
     "data": {
      "text/html": [
       "Find logs at: <code>./wandb/run-20250522_121754-7c7xjhhg/logs</code>"
      ],
      "text/plain": [
       "<IPython.core.display.HTML object>"
      ]
     },
     "metadata": {},
     "output_type": "display_data"
    },
    {
     "data": {
      "text/html": [
       "The new W&B backend becomes opt-out in version 0.18.0; try it out with `wandb.require(\"core\")`! See https://wandb.me/wandb-core for more information."
      ],
      "text/plain": [
       "<IPython.core.display.HTML object>"
      ]
     },
     "metadata": {},
     "output_type": "display_data"
    },
    {
     "data": {
      "text/plain": [
       "62.75"
      ]
     },
     "execution_count": 55,
     "metadata": {},
     "output_type": "execute_result"
    }
   ],
   "source": [
    "config = {\n",
    "    \"mode\": \"train\",  # Options: \"train\", \"eval\"\n",
    "    \"device\": \"cuda\" if torch.cuda.is_available() else \"cpu\",\n",
    "\n",
    "    ## data and preprocessing settings\n",
    "    \"data_root_dir\": '/datasets',\n",
    "    \"num_workers\": 4,\n",
    "\n",
    "    ## Training Hyperparams\n",
    "    \"batch_size\": 128,\n",
    "    \"learning_rate\": 1e-2,\n",
    "    \"num_epochs\": 50,\n",
    "\n",
    "    ## checkpoints\n",
    "    \"checkpoint_path\": \"checkpoints/checkpoint.pth\",    # Path to save the most recent checkpoint\n",
    "    \"best_model_path\": \"checkpoints/best_model.pth\",    # Path to save the best model checkpoint\n",
    "    \"checkpoint_save_interval\": 1,                     # Save a checkpoint every N epochs\n",
    "    \"resume_training\": None,    # Options: \"latest\", \"best\", or None\n",
    "\n",
    "    ## WandB logging\n",
    "    \"wandb_project_name\": \"CIFAR10-experiments\",\n",
    "    \"wandb_experiment_name\" : \"SimpleCNN\",\n",
    "    \"model_architecture\": \"CNN\",\n",
    "    \"dataset_name\": \"CIFAR10\"\n",
    "}\n",
    "\n",
    "main_SimpleCNN(config)"
   ]
  },
  {
   "cell_type": "markdown",
   "metadata": {},
   "source": [
    "## BetterCNN Architecture Search\n",
    "<mark>실습</mark> 더 높은 이미지 분류 정확도를 달성하기 위해, 더 나은 CNN모델 `BetterCNN`를 직접 설계해보세요. \n",
    "\n",
    " - 주어진 `BetterCNN` 클래스 안의 모델 구조를 자유롭게 설계하여 `test set accuracy > 68.0%`를 달성하세요\n",
    " - `BetterCNN`의 모델 구조와 `learning_rate`, `num_epochs`는 자유롭게 변경할 수 있습니다. 단, 그 외에 <u>다른 것은 변경할 수 없습니다</u>.\n",
    "   - 예를들어 optimizer, learning rate scheduler 등과 같은 다른 하이퍼파라미터는 모두 고정이며, 모델 구조(`BetterCNN`) 개선을 통해 최고의 성능을 달성해보세요.\n",
    "   - 사용할 수 있는 PyTorch 레이어는 다음으로 제한됩니다: `nn.Sequential`, `nn.Conv2d`, `nn.MaxPool2d`, `nn.ReLU()`, `nn.Linear`, `nn.Flatten()`\n",
    "     - 그 외의 다른 `nn` 모듈이나 `torchvision.models`는 <u>사용 불가</u>합니다.\n",
    " - <mark>주의</mark> 해당 정확도를 달성한 모델의 checkpoint 파일(`submitted_checkpoints/best_model.pth`)을 github에 함께 push하세요.\n",
    "\n",
    "You may experiment with various:\n",
    "- Filter size\n",
    "- Number of filters\n",
    "- Stride\n",
    "- zero padding size\n",
    "- Pooling layer \n",
    "- number of layers\n",
    "- ...\n",
    "\n",
    "힌트\n",
    "- 3개의 Conv layer와 2개의 FC layer만으로도 목표하는 성능에 도달할 수 있습니다.\n",
    "- `Conv2d`연산과 `MaxPool2d` 연산을 거차면 이미지의 공간 크기(Height, Width)는 점점 줄어듭니다. 따라서 Conv layer가 깊어질수록 채널 수(필터 수)를 늘어주어, 줄어든 공간 정보만큼 더 풍부한 특징(feature)을 추출할 수 있도록 합니다.\n",
    "- `Linear` layer는 합성곱(conv) 계층에서 추출한 특징(feature) 중에서 최종 예측(분류)에 중요한 정보들을 선별하고 통합하는 역할을 합니다. 따라서 layer가 깊어질수록 출력 차원을 점차 줄여가며, 점점 더 핵심적인 특징을 추출하도록 만드는 것이 일반적입니다."
   ]
  },
  {
   "cell_type": "code",
   "execution_count": 44,
   "metadata": {},
   "outputs": [],
   "source": [
    "class BetterCNN(nn.Module):\n",
    "    def __init__(self, out_dim):\n",
    "        super().__init__()\n",
    "\n",
    "        ##### YOUR CODE START #####\n",
    "        self.conv = nn.Sequential(\n",
    "            nn.Conv2d(3, 32, kernel_size=3, stride=1, padding=1),\n",
    "            nn.ReLU(),\n",
    "            nn.MaxPool2d(2, 2),\n",
    "\n",
    "            nn.Conv2d(32, 64, kernel_size=3, stride=1, padding=1),\n",
    "            nn.ReLU(),\n",
    "            nn.MaxPool2d(2, 2),\n",
    "\n",
    "            nn.Conv2d(64, 128, kernel_size=3, stride=1, padding=1),\n",
    "            nn.ReLU(),\n",
    "            nn.MaxPool2d(2, 2)\n",
    "        )\n",
    "\n",
    "        self.flatten = nn.Flatten()\n",
    "        self.fc1 = nn.Linear(128 * 4 * 4, 128)\n",
    "        self.fc2 = nn.Linear(128, out_dim)\n",
    "\n",
    "\n",
    "        ##### YOUR CODE END #####\n",
    "\n",
    "    def forward(self, x):\n",
    "        ##### YOUR CODE START #####  \n",
    "        x = self.conv(x)\n",
    "        x = self.flatten(x)\n",
    "        x = F.relu(self.fc1(x))\n",
    "        logits = self.fc2(x)\n",
    "\n",
    "\n",
    "        ##### YOUR CODE END #####\n",
    "        return logits"
   ]
  },
  {
   "cell_type": "code",
   "execution_count": 45,
   "metadata": {
    "tags": [
     "execute_cell"
    ]
   },
   "outputs": [
    {
     "name": "stdout",
     "output_type": "stream",
     "text": [
      "BetterCNN(\n",
      "  (conv): Sequential(\n",
      "    (0): Conv2d(3, 32, kernel_size=(3, 3), stride=(1, 1), padding=(1, 1))\n",
      "    (1): ReLU()\n",
      "    (2): MaxPool2d(kernel_size=2, stride=2, padding=0, dilation=1, ceil_mode=False)\n",
      "    (3): Conv2d(32, 64, kernel_size=(3, 3), stride=(1, 1), padding=(1, 1))\n",
      "    (4): ReLU()\n",
      "    (5): MaxPool2d(kernel_size=2, stride=2, padding=0, dilation=1, ceil_mode=False)\n",
      "    (6): Conv2d(64, 128, kernel_size=(3, 3), stride=(1, 1), padding=(1, 1))\n",
      "    (7): ReLU()\n",
      "    (8): MaxPool2d(kernel_size=2, stride=2, padding=0, dilation=1, ceil_mode=False)\n",
      "  )\n",
      "  (flatten): Flatten(start_dim=1, end_dim=-1)\n",
      "  (fc1): Linear(in_features=2048, out_features=128, bias=True)\n",
      "  (fc2): Linear(in_features=128, out_features=10, bias=True)\n",
      ")\n",
      "\n",
      "logits.shape:  torch.Size([16, 10])\n"
     ]
    }
   ],
   "source": [
    "# Test forward pass\n",
    "model = BetterCNN(out_dim = 10)\n",
    "print(model)\n",
    "\n",
    "X = torch.rand(16, 3, 32, 32) # dummy data for testing with batch_size 16\n",
    "logits = model(X) \n",
    "\n",
    "print(\"\\nlogits.shape: \", logits.shape)"
   ]
  },
  {
   "cell_type": "markdown",
   "metadata": {},
   "source": [
    "<mark>주의</mark> 아래 `main_BetterMLP()`함수와 `config` 값을 수정하는것은 <u>허용되지 않습니다</u>\n",
    "- `learning_rate`와 `num_epochs` 값을 변경해보는 것은 가능하나, `BetterCNN` 모델 구조를 개선하는 것이 성능 향상에 더 큰 도움이 됩니다."
   ]
  },
  {
   "cell_type": "code",
   "execution_count": 46,
   "metadata": {},
   "outputs": [],
   "source": [
    "def main_BetterCNN(config):\n",
    "    train_dataset, test_dataset = load_cifar10_datasets(config[\"data_root_dir\"])\n",
    "    num_classes = len(train_dataset.classes)\n",
    "\n",
    "    model = BetterCNN(out_dim=num_classes)\n",
    "\n",
    "    print(f\"Using {config['device']} device\")\n",
    "    print(\"Number of trainable model parameters: \", sum(p.numel() for p in model.parameters() if p.requires_grad))\n",
    "\n",
    "    if config[\"mode\"] == \"train\":\n",
    "        test_accuracy = train_model(model, train_dataset, test_dataset, config)\n",
    "    elif config[\"mode\"] == \"eval\":\n",
    "        test_accuracy = load_and_evaluate_model(model, test_dataset, config)\n",
    "    else:\n",
    "        raise ValueError(f\"Unknown mode: {config['mode']}\")\n",
    "    \n",
    "    return test_accuracy\n",
    "\n",
    "config = {\n",
    "    \"mode\": \"train\",  # Options: \"train\", \"eval\"\n",
    "    \"device\": \"cuda\" if torch.cuda.is_available() else \"cpu\",\n",
    "\n",
    "    ## data and preprocessing settings\n",
    "    \"data_root_dir\": '/datasets',\n",
    "    \"num_workers\": 4,\n",
    "\n",
    "    ## Training Hyperparams\n",
    "    \"batch_size\": 128,\n",
    "    \"learning_rate\": 1e-2,\n",
    "    \"num_epochs\": 50,\n",
    "\n",
    "    ## checkpoints\n",
    "    \"checkpoint_path\": \"submitted_checkpoints/checkpoint.pth\",    # Path to save the most recent checkpoint\n",
    "    \"best_model_path\": \"submitted_checkpoints/best_model.pth\",    # Path to save the best model checkpoint\n",
    "    \"checkpoint_save_interval\": 1,                     # Save a checkpoint every N epochs\n",
    "    \"resume_training\": None,    # Options: \"latest\", \"best\", or None\n",
    "\n",
    "    ## WandB logging\n",
    "    \"wandb_project_name\": \"CIFAR10-experiments\",\n",
    "    \"wandb_experiment_name\" : \"BetterCNN\",\n",
    "    \"model_architecture\": \"CNN\",\n",
    "    \"dataset_name\": \"CIFAR10\"\n",
    "}"
   ]
  },
  {
   "cell_type": "code",
   "execution_count": 47,
   "metadata": {
    "tags": [
     "execute_cell"
    ]
   },
   "outputs": [
    {
     "name": "stdout",
     "output_type": "stream",
     "text": [
      "Using cuda device\n",
      "Number of trainable model parameters:  356810\n"
     ]
    },
    {
     "data": {
      "text/html": [
       "wandb version 0.19.11 is available!  To upgrade, please run:\n",
       " $ pip install wandb --upgrade"
      ],
      "text/plain": [
       "<IPython.core.display.HTML object>"
      ]
     },
     "metadata": {},
     "output_type": "display_data"
    },
    {
     "data": {
      "text/html": [
       "Tracking run with wandb version 0.17.7"
      ],
      "text/plain": [
       "<IPython.core.display.HTML object>"
      ]
     },
     "metadata": {},
     "output_type": "display_data"
    },
    {
     "data": {
      "text/html": [
       "Run data is saved locally in <code>/home/jovyan/deep_learning_lab_Whatever_you_want/lab_05/wandb/run-20250522_114703-4romn6oh</code>"
      ],
      "text/plain": [
       "<IPython.core.display.HTML object>"
      ]
     },
     "metadata": {},
     "output_type": "display_data"
    },
    {
     "data": {
      "text/html": [
       "Syncing run <strong><a href='https://wandb.ai/junior7ee-university-of-suwon/CIFAR10-experiments/runs/4romn6oh' target=\"_blank\">BetterCNN</a></strong> to <a href='https://wandb.ai/junior7ee-university-of-suwon/CIFAR10-experiments' target=\"_blank\">Weights & Biases</a> (<a href='https://wandb.me/run' target=\"_blank\">docs</a>)<br/>"
      ],
      "text/plain": [
       "<IPython.core.display.HTML object>"
      ]
     },
     "metadata": {},
     "output_type": "display_data"
    },
    {
     "data": {
      "text/html": [
       " View project at <a href='https://wandb.ai/junior7ee-university-of-suwon/CIFAR10-experiments' target=\"_blank\">https://wandb.ai/junior7ee-university-of-suwon/CIFAR10-experiments</a>"
      ],
      "text/plain": [
       "<IPython.core.display.HTML object>"
      ]
     },
     "metadata": {},
     "output_type": "display_data"
    },
    {
     "data": {
      "text/html": [
       " View run at <a href='https://wandb.ai/junior7ee-university-of-suwon/CIFAR10-experiments/runs/4romn6oh' target=\"_blank\">https://wandb.ai/junior7ee-university-of-suwon/CIFAR10-experiments/runs/4romn6oh</a>"
      ],
      "text/plain": [
       "<IPython.core.display.HTML object>"
      ]
     },
     "metadata": {},
     "output_type": "display_data"
    },
    {
     "name": "stderr",
     "output_type": "stream",
     "text": [
      "Training Epoch 1: 100%|██████████| 391/391 [00:01<00:00, 354.93it/s, avg_metrics=Loss: 2.2868e+00 (n=50000), Accuracy:  14.71 (n=50000), Data_Time:  0.001 (n=391), Batch_Time:  0.002 (n=391)]\n",
      "Validation/Test: 100%|██████████| 79/79 [00:00<00:00, 331.75it/s, avg_metrics=Loss: 2.2502e+00 (n=10000), Accuracy:  20.37 (n=10000)]\n",
      "Training Epoch 2: 100%|██████████| 391/391 [00:01<00:00, 346.50it/s, avg_metrics=Loss: 2.1115e+00 (n=50000), Accuracy:  25.31 (n=50000), Data_Time:  0.001 (n=391), Batch_Time:  0.002 (n=391)]\n",
      "Validation/Test: 100%|██████████| 79/79 [00:00<00:00, 366.77it/s, avg_metrics=Loss: 1.9778e+00 (n=10000), Accuracy:  28.96 (n=10000)]\n",
      "Training Epoch 3: 100%|██████████| 391/391 [00:01<00:00, 365.44it/s, avg_metrics=Loss: 1.8871e+00 (n=50000), Accuracy:  32.33 (n=50000), Data_Time:  0.001 (n=391), Batch_Time:  0.002 (n=391)]\n",
      "Validation/Test: 100%|██████████| 79/79 [00:00<00:00, 350.08it/s, avg_metrics=Loss: 1.8076e+00 (n=10000), Accuracy:  35.76 (n=10000)]\n",
      "Training Epoch 4: 100%|██████████| 391/391 [00:01<00:00, 350.98it/s, avg_metrics=Loss: 1.7474e+00 (n=50000), Accuracy:  37.06 (n=50000), Data_Time:  0.001 (n=391), Batch_Time:  0.002 (n=391)]\n",
      "Validation/Test: 100%|██████████| 79/79 [00:00<00:00, 363.20it/s, avg_metrics=Loss: 1.7116e+00 (n=10000), Accuracy:  38.35 (n=10000)]\n",
      "Training Epoch 5: 100%|██████████| 391/391 [00:01<00:00, 352.02it/s, avg_metrics=Loss: 1.6426e+00 (n=50000), Accuracy:  40.54 (n=50000), Data_Time:  0.001 (n=391), Batch_Time:  0.002 (n=391)]\n",
      "Validation/Test: 100%|██████████| 79/79 [00:00<00:00, 366.98it/s, avg_metrics=Loss: 1.5752e+00 (n=10000), Accuracy:  43.19 (n=10000)]\n",
      "Training Epoch 6: 100%|██████████| 391/391 [00:01<00:00, 349.69it/s, avg_metrics=Loss: 1.5637e+00 (n=50000), Accuracy:  43.40 (n=50000), Data_Time:  0.001 (n=391), Batch_Time:  0.002 (n=391)]\n",
      "Validation/Test: 100%|██████████| 79/79 [00:00<00:00, 385.18it/s, avg_metrics=Loss: 1.5138e+00 (n=10000), Accuracy:  44.77 (n=10000)]\n",
      "Training Epoch 7: 100%|██████████| 391/391 [00:01<00:00, 332.71it/s, avg_metrics=Loss: 1.5033e+00 (n=50000), Accuracy:  45.80 (n=50000), Data_Time:  0.001 (n=391), Batch_Time:  0.003 (n=391)]\n",
      "Validation/Test: 100%|██████████| 79/79 [00:00<00:00, 377.94it/s, avg_metrics=Loss: 1.4824e+00 (n=10000), Accuracy:  47.48 (n=10000)]\n",
      "Training Epoch 8: 100%|██████████| 391/391 [00:01<00:00, 352.79it/s, avg_metrics=Loss: 1.4499e+00 (n=50000), Accuracy:  47.88 (n=50000), Data_Time:  0.001 (n=391), Batch_Time:  0.002 (n=391)]\n",
      "Validation/Test: 100%|██████████| 79/79 [00:00<00:00, 374.06it/s, avg_metrics=Loss: 1.4090e+00 (n=10000), Accuracy:  49.13 (n=10000)]\n",
      "Training Epoch 9: 100%|██████████| 391/391 [00:01<00:00, 336.53it/s, avg_metrics=Loss: 1.4022e+00 (n=50000), Accuracy:  49.87 (n=50000), Data_Time:  0.001 (n=391), Batch_Time:  0.002 (n=391)]\n",
      "Validation/Test: 100%|██████████| 79/79 [00:00<00:00, 387.72it/s, avg_metrics=Loss: 1.3692e+00 (n=10000), Accuracy:  51.01 (n=10000)]\n",
      "Training Epoch 10: 100%|██████████| 391/391 [00:01<00:00, 340.70it/s, avg_metrics=Loss: 1.3630e+00 (n=50000), Accuracy:  51.46 (n=50000), Data_Time:  0.001 (n=391), Batch_Time:  0.002 (n=391)]\n",
      "Validation/Test: 100%|██████████| 79/79 [00:00<00:00, 392.42it/s, avg_metrics=Loss: 1.4073e+00 (n=10000), Accuracy:  49.30 (n=10000)]\n",
      "Training Epoch 11: 100%|██████████| 391/391 [00:01<00:00, 340.03it/s, avg_metrics=Loss: 1.3228e+00 (n=50000), Accuracy:  52.97 (n=50000), Data_Time:  0.001 (n=391), Batch_Time:  0.002 (n=391)]\n",
      "Validation/Test: 100%|██████████| 79/79 [00:00<00:00, 372.35it/s, avg_metrics=Loss: 1.3305e+00 (n=10000), Accuracy:  52.68 (n=10000)]\n",
      "Training Epoch 12: 100%|██████████| 391/391 [00:01<00:00, 367.09it/s, avg_metrics=Loss: 1.2872e+00 (n=50000), Accuracy:  54.36 (n=50000), Data_Time:  0.001 (n=391), Batch_Time:  0.002 (n=391)]\n",
      "Validation/Test: 100%|██████████| 79/79 [00:00<00:00, 341.41it/s, avg_metrics=Loss: 1.2788e+00 (n=10000), Accuracy:  54.39 (n=10000)]\n",
      "Training Epoch 13: 100%|██████████| 391/391 [00:01<00:00, 356.53it/s, avg_metrics=Loss: 1.2541e+00 (n=50000), Accuracy:  55.39 (n=50000), Data_Time:  0.001 (n=391), Batch_Time:  0.002 (n=391)]\n",
      "Validation/Test: 100%|██████████| 79/79 [00:00<00:00, 350.26it/s, avg_metrics=Loss: 1.3097e+00 (n=10000), Accuracy:  53.92 (n=10000)]\n",
      "Training Epoch 14: 100%|██████████| 391/391 [00:01<00:00, 340.28it/s, avg_metrics=Loss: 1.2222e+00 (n=50000), Accuracy:  56.62 (n=50000), Data_Time:  0.001 (n=391), Batch_Time:  0.002 (n=391)]\n",
      "Validation/Test: 100%|██████████| 79/79 [00:00<00:00, 399.98it/s, avg_metrics=Loss: 1.2141e+00 (n=10000), Accuracy:  56.38 (n=10000)]\n",
      "Training Epoch 15: 100%|██████████| 391/391 [00:01<00:00, 338.78it/s, avg_metrics=Loss: 1.1933e+00 (n=50000), Accuracy:  57.74 (n=50000), Data_Time:  0.001 (n=391), Batch_Time:  0.002 (n=391)]\n",
      "Validation/Test: 100%|██████████| 79/79 [00:00<00:00, 348.58it/s, avg_metrics=Loss: 1.2002e+00 (n=10000), Accuracy:  57.21 (n=10000)]\n",
      "Training Epoch 16: 100%|██████████| 391/391 [00:01<00:00, 378.59it/s, avg_metrics=Loss: 1.1590e+00 (n=50000), Accuracy:  59.28 (n=50000), Data_Time:  0.001 (n=391), Batch_Time:  0.002 (n=391)]\n",
      "Validation/Test: 100%|██████████| 79/79 [00:00<00:00, 290.00it/s, avg_metrics=Loss: 1.2281e+00 (n=10000), Accuracy:  56.27 (n=10000)]\n",
      "Training Epoch 17: 100%|██████████| 391/391 [00:01<00:00, 386.69it/s, avg_metrics=Loss: 1.1309e+00 (n=50000), Accuracy:  60.28 (n=50000), Data_Time:  0.001 (n=391), Batch_Time:  0.002 (n=391)]\n",
      "Validation/Test: 100%|██████████| 79/79 [00:00<00:00, 294.75it/s, avg_metrics=Loss: 1.1501e+00 (n=10000), Accuracy:  58.90 (n=10000)]\n",
      "Training Epoch 18: 100%|██████████| 391/391 [00:01<00:00, 337.72it/s, avg_metrics=Loss: 1.1029e+00 (n=50000), Accuracy:  60.94 (n=50000), Data_Time:  0.001 (n=391), Batch_Time:  0.002 (n=391)]\n",
      "Validation/Test: 100%|██████████| 79/79 [00:00<00:00, 373.26it/s, avg_metrics=Loss: 1.1141e+00 (n=10000), Accuracy:  60.01 (n=10000)]\n",
      "Training Epoch 19: 100%|██████████| 391/391 [00:01<00:00, 337.41it/s, avg_metrics=Loss: 1.0738e+00 (n=50000), Accuracy:  62.19 (n=50000), Data_Time:  0.001 (n=391), Batch_Time:  0.002 (n=391)]\n",
      "Validation/Test: 100%|██████████| 79/79 [00:00<00:00, 381.00it/s, avg_metrics=Loss: 1.1067e+00 (n=10000), Accuracy:  60.41 (n=10000)]\n",
      "Training Epoch 20: 100%|██████████| 391/391 [00:01<00:00, 343.13it/s, avg_metrics=Loss: 1.0441e+00 (n=50000), Accuracy:  63.41 (n=50000), Data_Time:  0.001 (n=391), Batch_Time:  0.002 (n=391)]\n",
      "Validation/Test: 100%|██████████| 79/79 [00:00<00:00, 354.79it/s, avg_metrics=Loss: 1.0867e+00 (n=10000), Accuracy:  61.65 (n=10000)]\n",
      "Training Epoch 21: 100%|██████████| 391/391 [00:01<00:00, 346.08it/s, avg_metrics=Loss: 1.0204e+00 (n=50000), Accuracy:  64.33 (n=50000), Data_Time:  0.001 (n=391), Batch_Time:  0.002 (n=391)]\n",
      "Validation/Test: 100%|██████████| 79/79 [00:00<00:00, 386.43it/s, avg_metrics=Loss: 1.0446e+00 (n=10000), Accuracy:  63.11 (n=10000)]\n",
      "Training Epoch 22: 100%|██████████| 391/391 [00:01<00:00, 364.10it/s, avg_metrics=Loss: 9.9605e-01 (n=50000), Accuracy:  65.23 (n=50000), Data_Time:  0.001 (n=391), Batch_Time:  0.002 (n=391)]\n",
      "Validation/Test: 100%|██████████| 79/79 [00:00<00:00, 356.51it/s, avg_metrics=Loss: 1.0384e+00 (n=10000), Accuracy:  63.24 (n=10000)]\n",
      "Training Epoch 23: 100%|██████████| 391/391 [00:01<00:00, 350.76it/s, avg_metrics=Loss: 9.7240e-01 (n=50000), Accuracy:  66.07 (n=50000), Data_Time:  0.001 (n=391), Batch_Time:  0.002 (n=391)]\n",
      "Validation/Test: 100%|██████████| 79/79 [00:00<00:00, 339.54it/s, avg_metrics=Loss: 1.0543e+00 (n=10000), Accuracy:  62.58 (n=10000)]\n",
      "Training Epoch 24: 100%|██████████| 391/391 [00:01<00:00, 377.36it/s, avg_metrics=Loss: 9.5176e-01 (n=50000), Accuracy:  66.81 (n=50000), Data_Time:  0.001 (n=391), Batch_Time:  0.002 (n=391)]\n",
      "Validation/Test: 100%|██████████| 79/79 [00:00<00:00, 290.17it/s, avg_metrics=Loss: 1.0439e+00 (n=10000), Accuracy:  63.44 (n=10000)]\n",
      "Training Epoch 25: 100%|██████████| 391/391 [00:01<00:00, 339.28it/s, avg_metrics=Loss: 9.2731e-01 (n=50000), Accuracy:  67.61 (n=50000), Data_Time:  0.001 (n=391), Batch_Time:  0.002 (n=391)]\n",
      "Validation/Test: 100%|██████████| 79/79 [00:00<00:00, 350.59it/s, avg_metrics=Loss: 9.6256e-01 (n=10000), Accuracy:  66.21 (n=10000)]\n",
      "Training Epoch 26: 100%|██████████| 391/391 [00:01<00:00, 341.72it/s, avg_metrics=Loss: 9.0206e-01 (n=50000), Accuracy:  68.67 (n=50000), Data_Time:  0.001 (n=391), Batch_Time:  0.002 (n=391)]\n",
      "Validation/Test: 100%|██████████| 79/79 [00:00<00:00, 390.33it/s, avg_metrics=Loss: 9.5421e-01 (n=10000), Accuracy:  66.83 (n=10000)]\n",
      "Training Epoch 27: 100%|██████████| 391/391 [00:01<00:00, 346.36it/s, avg_metrics=Loss: 8.8243e-01 (n=50000), Accuracy:  69.50 (n=50000), Data_Time:  0.001 (n=391), Batch_Time:  0.002 (n=391)]\n",
      "Validation/Test: 100%|██████████| 79/79 [00:00<00:00, 369.26it/s, avg_metrics=Loss: 9.4755e-01 (n=10000), Accuracy:  66.16 (n=10000)]\n",
      "Training Epoch 28: 100%|██████████| 391/391 [00:01<00:00, 352.42it/s, avg_metrics=Loss: 8.6339e-01 (n=50000), Accuracy:  70.20 (n=50000), Data_Time:  0.001 (n=391), Batch_Time:  0.002 (n=391)]\n",
      "Validation/Test: 100%|██████████| 79/79 [00:00<00:00, 381.62it/s, avg_metrics=Loss: 9.9391e-01 (n=10000), Accuracy:  64.76 (n=10000)]\n",
      "Training Epoch 29: 100%|██████████| 391/391 [00:01<00:00, 342.52it/s, avg_metrics=Loss: 8.4515e-01 (n=50000), Accuracy:  70.62 (n=50000), Data_Time:  0.001 (n=391), Batch_Time:  0.002 (n=391)]\n",
      "Validation/Test: 100%|██████████| 79/79 [00:00<00:00, 358.57it/s, avg_metrics=Loss: 9.3041e-01 (n=10000), Accuracy:  67.18 (n=10000)]\n",
      "Training Epoch 30: 100%|██████████| 391/391 [00:01<00:00, 341.28it/s, avg_metrics=Loss: 8.2577e-01 (n=50000), Accuracy:  71.28 (n=50000), Data_Time:  0.001 (n=391), Batch_Time:  0.003 (n=391)]\n",
      "Validation/Test: 100%|██████████| 79/79 [00:00<00:00, 368.95it/s, avg_metrics=Loss: 9.1199e-01 (n=10000), Accuracy:  67.80 (n=10000)]\n",
      "Training Epoch 31: 100%|██████████| 391/391 [00:01<00:00, 372.97it/s, avg_metrics=Loss: 8.0550e-01 (n=50000), Accuracy:  72.38 (n=50000), Data_Time:  0.001 (n=391), Batch_Time:  0.002 (n=391)]\n",
      "Validation/Test: 100%|██████████| 79/79 [00:00<00:00, 357.91it/s, avg_metrics=Loss: 9.2808e-01 (n=10000), Accuracy:  67.60 (n=10000)]\n",
      "Training Epoch 32: 100%|██████████| 391/391 [00:01<00:00, 345.90it/s, avg_metrics=Loss: 7.8614e-01 (n=50000), Accuracy:  72.88 (n=50000), Data_Time:  0.001 (n=391), Batch_Time:  0.002 (n=391)]\n",
      "Validation/Test: 100%|██████████| 79/79 [00:00<00:00, 389.96it/s, avg_metrics=Loss: 9.2050e-01 (n=10000), Accuracy:  67.92 (n=10000)]\n",
      "Training Epoch 33: 100%|██████████| 391/391 [00:01<00:00, 338.04it/s, avg_metrics=Loss: 7.7271e-01 (n=50000), Accuracy:  73.36 (n=50000), Data_Time:  0.001 (n=391), Batch_Time:  0.002 (n=391)]\n",
      "Validation/Test: 100%|██████████| 79/79 [00:00<00:00, 376.30it/s, avg_metrics=Loss: 8.8538e-01 (n=10000), Accuracy:  69.12 (n=10000)]\n",
      "Training Epoch 34: 100%|██████████| 391/391 [00:01<00:00, 334.01it/s, avg_metrics=Loss: 7.5474e-01 (n=50000), Accuracy:  73.89 (n=50000), Data_Time:  0.001 (n=391), Batch_Time:  0.002 (n=391)]\n",
      "Validation/Test: 100%|██████████| 79/79 [00:00<00:00, 380.72it/s, avg_metrics=Loss: 9.0413e-01 (n=10000), Accuracy:  68.53 (n=10000)]\n",
      "Training Epoch 35: 100%|██████████| 391/391 [00:01<00:00, 338.30it/s, avg_metrics=Loss: 7.3685e-01 (n=50000), Accuracy:  74.49 (n=50000), Data_Time:  0.001 (n=391), Batch_Time:  0.002 (n=391)]\n",
      "Validation/Test: 100%|██████████| 79/79 [00:00<00:00, 374.82it/s, avg_metrics=Loss: 8.7108e-01 (n=10000), Accuracy:  69.69 (n=10000)]\n",
      "Training Epoch 36: 100%|██████████| 391/391 [00:01<00:00, 339.08it/s, avg_metrics=Loss: 7.1954e-01 (n=50000), Accuracy:  75.11 (n=50000), Data_Time:  0.001 (n=391), Batch_Time:  0.002 (n=391)]\n",
      "Validation/Test: 100%|██████████| 79/79 [00:00<00:00, 387.50it/s, avg_metrics=Loss: 9.1311e-01 (n=10000), Accuracy:  68.67 (n=10000)]\n",
      "Training Epoch 37: 100%|██████████| 391/391 [00:01<00:00, 371.42it/s, avg_metrics=Loss: 7.0700e-01 (n=50000), Accuracy:  75.63 (n=50000), Data_Time:  0.001 (n=391), Batch_Time:  0.002 (n=391)]\n",
      "Validation/Test: 100%|██████████| 79/79 [00:00<00:00, 303.62it/s, avg_metrics=Loss: 8.6368e-01 (n=10000), Accuracy:  70.36 (n=10000)]\n",
      "Training Epoch 38: 100%|██████████| 391/391 [00:01<00:00, 366.31it/s, avg_metrics=Loss: 6.8675e-01 (n=50000), Accuracy:  76.37 (n=50000), Data_Time:  0.001 (n=391), Batch_Time:  0.002 (n=391)]\n",
      "Validation/Test: 100%|██████████| 79/79 [00:00<00:00, 374.63it/s, avg_metrics=Loss: 8.4924e-01 (n=10000), Accuracy:  70.52 (n=10000)]\n",
      "Training Epoch 39: 100%|██████████| 391/391 [00:01<00:00, 341.03it/s, avg_metrics=Loss: 6.7752e-01 (n=50000), Accuracy:  76.56 (n=50000), Data_Time:  0.001 (n=391), Batch_Time:  0.002 (n=391)]\n",
      "Validation/Test: 100%|██████████| 79/79 [00:00<00:00, 372.31it/s, avg_metrics=Loss: 9.2512e-01 (n=10000), Accuracy:  68.74 (n=10000)]\n",
      "Training Epoch 40: 100%|██████████| 391/391 [00:01<00:00, 362.74it/s, avg_metrics=Loss: 6.5893e-01 (n=50000), Accuracy:  77.06 (n=50000), Data_Time:  0.001 (n=391), Batch_Time:  0.002 (n=391)]\n",
      "Validation/Test: 100%|██████████| 79/79 [00:00<00:00, 379.48it/s, avg_metrics=Loss: 8.2778e-01 (n=10000), Accuracy:  71.52 (n=10000)]\n",
      "Training Epoch 41: 100%|██████████| 391/391 [00:01<00:00, 351.71it/s, avg_metrics=Loss: 6.4615e-01 (n=50000), Accuracy:  77.84 (n=50000), Data_Time:  0.001 (n=391), Batch_Time:  0.002 (n=391)]\n",
      "Validation/Test: 100%|██████████| 79/79 [00:00<00:00, 363.64it/s, avg_metrics=Loss: 9.1985e-01 (n=10000), Accuracy:  68.44 (n=10000)]\n",
      "Training Epoch 42: 100%|██████████| 391/391 [00:01<00:00, 354.94it/s, avg_metrics=Loss: 6.3010e-01 (n=50000), Accuracy:  78.30 (n=50000), Data_Time:  0.001 (n=391), Batch_Time:  0.002 (n=391)]\n",
      "Validation/Test: 100%|██████████| 79/79 [00:00<00:00, 380.62it/s, avg_metrics=Loss: 9.0915e-01 (n=10000), Accuracy:  68.70 (n=10000)]\n",
      "Training Epoch 43: 100%|██████████| 391/391 [00:01<00:00, 335.93it/s, avg_metrics=Loss: 6.1745e-01 (n=50000), Accuracy:  78.68 (n=50000), Data_Time:  0.001 (n=391), Batch_Time:  0.002 (n=391)]\n",
      "Validation/Test: 100%|██████████| 79/79 [00:00<00:00, 378.91it/s, avg_metrics=Loss: 8.5908e-01 (n=10000), Accuracy:  70.73 (n=10000)]\n",
      "Training Epoch 44: 100%|██████████| 391/391 [00:01<00:00, 327.78it/s, avg_metrics=Loss: 6.0175e-01 (n=50000), Accuracy:  79.32 (n=50000), Data_Time:  0.001 (n=391), Batch_Time:  0.003 (n=391)]\n",
      "Validation/Test: 100%|██████████| 79/79 [00:00<00:00, 404.11it/s, avg_metrics=Loss: 8.2848e-01 (n=10000), Accuracy:  71.74 (n=10000)]\n",
      "Training Epoch 45: 100%|██████████| 391/391 [00:01<00:00, 327.00it/s, avg_metrics=Loss: 5.9054e-01 (n=50000), Accuracy:  79.70 (n=50000), Data_Time:  0.001 (n=391), Batch_Time:  0.002 (n=391)]\n",
      "Validation/Test: 100%|██████████| 79/79 [00:00<00:00, 366.91it/s, avg_metrics=Loss: 8.2301e-01 (n=10000), Accuracy:  72.12 (n=10000)]\n",
      "Training Epoch 46: 100%|██████████| 391/391 [00:01<00:00, 333.27it/s, avg_metrics=Loss: 5.7470e-01 (n=50000), Accuracy:  80.25 (n=50000), Data_Time:  0.001 (n=391), Batch_Time:  0.003 (n=391)]\n",
      "Validation/Test: 100%|██████████| 79/79 [00:00<00:00, 372.05it/s, avg_metrics=Loss: 8.5029e-01 (n=10000), Accuracy:  71.84 (n=10000)]\n",
      "Training Epoch 47: 100%|██████████| 391/391 [00:01<00:00, 337.66it/s, avg_metrics=Loss: 5.6380e-01 (n=50000), Accuracy:  80.49 (n=50000), Data_Time:  0.001 (n=391), Batch_Time:  0.002 (n=391)]\n",
      "Validation/Test: 100%|██████████| 79/79 [00:00<00:00, 365.44it/s, avg_metrics=Loss: 8.0393e-01 (n=10000), Accuracy:  73.03 (n=10000)]\n",
      "Training Epoch 48: 100%|██████████| 391/391 [00:01<00:00, 350.51it/s, avg_metrics=Loss: 5.4845e-01 (n=50000), Accuracy:  81.12 (n=50000), Data_Time:  0.001 (n=391), Batch_Time:  0.002 (n=391)]\n",
      "Validation/Test: 100%|██████████| 79/79 [00:00<00:00, 384.09it/s, avg_metrics=Loss: 8.5002e-01 (n=10000), Accuracy:  71.31 (n=10000)]\n",
      "Training Epoch 49: 100%|██████████| 391/391 [00:01<00:00, 359.22it/s, avg_metrics=Loss: 5.3536e-01 (n=50000), Accuracy:  81.56 (n=50000), Data_Time:  0.001 (n=391), Batch_Time:  0.002 (n=391)]\n",
      "Validation/Test: 100%|██████████| 79/79 [00:00<00:00, 363.08it/s, avg_metrics=Loss: 7.9949e-01 (n=10000), Accuracy:  73.04 (n=10000)]\n",
      "Training Epoch 50: 100%|██████████| 391/391 [00:01<00:00, 345.23it/s, avg_metrics=Loss: 5.2146e-01 (n=50000), Accuracy:  82.07 (n=50000), Data_Time:  0.001 (n=391), Batch_Time:  0.002 (n=391)]\n",
      "Validation/Test: 100%|██████████| 79/79 [00:00<00:00, 366.31it/s, avg_metrics=Loss: 8.5685e-01 (n=10000), Accuracy:  71.25 (n=10000)]\n"
     ]
    },
    {
     "data": {
      "application/vnd.jupyter.widget-view+json": {
       "model_id": "",
       "version_major": 2,
       "version_minor": 0
      },
      "text/plain": [
       "VBox(children=(Label(value='0.004 MB of 0.004 MB uploaded\\r'), FloatProgress(value=1.0, max=1.0)))"
      ]
     },
     "metadata": {},
     "output_type": "display_data"
    },
    {
     "data": {
      "text/html": [
       "<style>\n",
       "    table.wandb td:nth-child(1) { padding: 0 10px; text-align: left ; width: auto;} td:nth-child(2) {text-align: left ; width: 100%}\n",
       "    .wandb-row { display: flex; flex-direction: row; flex-wrap: wrap; justify-content: flex-start; width: 100% }\n",
       "    .wandb-col { display: flex; flex-direction: column; flex-basis: 100%; flex: 1; padding: 10px; }\n",
       "    </style>\n",
       "<div class=\"wandb-row\"><div class=\"wandb-col\"><h3>Run history:</h3><br/><table class=\"wandb\"><tr><td>Test Accuracy</td><td>▁▂▃▃▄▅▅▅▅▆▅▆▆▆▆▆▇▇▇▇▇▇▇▇▇▇▇▇▇██▇▇▇██████</td></tr><tr><td>Test Loss</td><td>█▇▆▅▄▄▄▄▄▃▃▃▃▃▃▂▂▂▂▂▂▂▂▂▂▂▁▁▂▁▁▂▂▂▁▁▁▁▁▁</td></tr><tr><td>Train Accuracy</td><td>▁▂▃▃▄▄▄▅▅▅▅▅▆▆▆▆▆▆▆▆▇▇▇▇▇▇▇▇▇▇▇▇████████</td></tr><tr><td>Train Loss</td><td>█▇▆▆▅▅▅▄▄▄▄▄▄▃▃▃▃▃▃▃▃▂▂▂▂▂▂▂▂▂▂▂▁▁▁▁▁▁▁▁</td></tr><tr><td>epoch</td><td>▁▁▁▁▂▂▂▂▂▃▃▃▃▃▃▄▄▄▄▄▅▅▅▅▅▅▆▆▆▆▆▇▇▇▇▇▇███</td></tr></table><br/></div><div class=\"wandb-col\"><h3>Run summary:</h3><br/><table class=\"wandb\"><tr><td>Test Accuracy</td><td>71.25</td></tr><tr><td>Test Loss</td><td>0.85685</td></tr><tr><td>Train Accuracy</td><td>82.072</td></tr><tr><td>Train Loss</td><td>0.52146</td></tr><tr><td>epoch</td><td>49</td></tr></table><br/></div></div>"
      ],
      "text/plain": [
       "<IPython.core.display.HTML object>"
      ]
     },
     "metadata": {},
     "output_type": "display_data"
    },
    {
     "data": {
      "text/html": [
       " View run <strong style=\"color:#cdcd00\">BetterCNN</strong> at: <a href='https://wandb.ai/junior7ee-university-of-suwon/CIFAR10-experiments/runs/4romn6oh' target=\"_blank\">https://wandb.ai/junior7ee-university-of-suwon/CIFAR10-experiments/runs/4romn6oh</a><br/> View project at: <a href='https://wandb.ai/junior7ee-university-of-suwon/CIFAR10-experiments' target=\"_blank\">https://wandb.ai/junior7ee-university-of-suwon/CIFAR10-experiments</a><br/>Synced 6 W&B file(s), 0 media file(s), 0 artifact file(s) and 0 other file(s)"
      ],
      "text/plain": [
       "<IPython.core.display.HTML object>"
      ]
     },
     "metadata": {},
     "output_type": "display_data"
    },
    {
     "data": {
      "text/html": [
       "Find logs at: <code>./wandb/run-20250522_114703-4romn6oh/logs</code>"
      ],
      "text/plain": [
       "<IPython.core.display.HTML object>"
      ]
     },
     "metadata": {},
     "output_type": "display_data"
    },
    {
     "data": {
      "text/html": [
       "The new W&B backend becomes opt-out in version 0.18.0; try it out with `wandb.require(\"core\")`! See https://wandb.me/wandb-core for more information."
      ],
      "text/plain": [
       "<IPython.core.display.HTML object>"
      ]
     },
     "metadata": {},
     "output_type": "display_data"
    },
    {
     "data": {
      "text/plain": [
       "73.04"
      ]
     },
     "execution_count": 47,
     "metadata": {},
     "output_type": "execute_result"
    }
   ],
   "source": [
    "main_BetterCNN(config)"
   ]
  },
  {
   "cell_type": "markdown",
   "metadata": {},
   "source": [
    "<mark>주의</mark> 실습 과제를 제출하기 전 아래 코드를 통해 저장된 checkpoint가 `test set accuracy > 68.0%`의 성능을 달성했는지 다시 한번 확인해보세요."
   ]
  },
  {
   "cell_type": "code",
   "execution_count": 48,
   "metadata": {
    "tags": [
     "execute_cell"
    ]
   },
   "outputs": [
    {
     "name": "stdout",
     "output_type": "stream",
     "text": [
      "Using cuda device\n",
      "Number of trainable model parameters:  356810\n",
      "=> loaded checkpoint 'submitted_checkpoints/best_model.pth' (epoch 49)\n"
     ]
    },
    {
     "name": "stderr",
     "output_type": "stream",
     "text": [
      "Validation/Test: 100%|██████████| 79/79 [00:00<00:00, 354.98it/s, avg_metrics=Loss: 7.9949e-01 (n=10000), Accuracy:  73.04 (n=10000)]"
     ]
    },
    {
     "name": "stdout",
     "output_type": "stream",
     "text": [
      "Test-set Accuracy: 73.04%\n"
     ]
    },
    {
     "name": "stderr",
     "output_type": "stream",
     "text": [
      "\n"
     ]
    },
    {
     "data": {
      "text/plain": [
       "73.04"
      ]
     },
     "execution_count": 48,
     "metadata": {},
     "output_type": "execute_result"
    }
   ],
   "source": [
    "config[\"mode\"] = \"eval\"\n",
    "main_BetterCNN(config)"
   ]
  }
 ],
 "metadata": {
  "kernelspec": {
   "display_name": "Python 3 (ipykernel)",
   "language": "python",
   "name": "python3"
  },
  "language_info": {
   "codemirror_mode": {
    "name": "ipython",
    "version": 3
   },
   "file_extension": ".py",
   "mimetype": "text/x-python",
   "name": "python",
   "nbconvert_exporter": "python",
   "pygments_lexer": "ipython3",
   "version": "3.11.9"
  }
 },
 "nbformat": 4,
 "nbformat_minor": 4
}
